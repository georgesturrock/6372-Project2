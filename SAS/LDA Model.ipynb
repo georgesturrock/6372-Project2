{
 "cells": [
  {
   "cell_type": "code",
   "execution_count": 93,
   "metadata": {},
   "outputs": [],
   "source": [
    "import pandas as pd\n",
    "import numpy as np\n",
    "from sklearn.discriminant_analysis import LinearDiscriminantAnalysis\n",
    "from sklearn.model_selection import train_test_split\n",
    "from sklearn.metrics import roc_auc_score, classification_report, accuracy_score"
   ]
  },
  {
   "cell_type": "code",
   "execution_count": 94,
   "metadata": {},
   "outputs": [],
   "source": [
    "df = pd.read_csv(\"C:/Users/Griff/Documents/!_SKOOL/6372-AppliedStatistics/Project/kobe_cleaned.csv\")\n",
    "\n",
    "training_set, test_set = train_test_split(df, test_size=.3, random_state=6372)\n",
    "\n",
    "y = np.array(training_set['shot_made_flag'])\n",
    "X = np.array(training_set[[\"shot_distance\", \"attendance\", \"arena_temp\", \"loc_x\", \"loc_y\"]].astype(float))\n",
    "test_y = np.array(test_set['shot_made_flag'])\n",
    "test_X = np.array(test_set[[\"shot_distance\", \"attendance\", \"arena_temp\", \"loc_x\", \"loc_y\"]].astype(float))"
   ]
  },
  {
   "cell_type": "code",
   "execution_count": 95,
   "metadata": {},
   "outputs": [],
   "source": [
    "LDA_classifier = LinearDiscriminantAnalysis(solver=\"lsqr\", shrinkage='auto').fit(X,y)\n",
    "pred_labels_test_X = LDA_classifier.predict(test_X)\n",
    "pred_probs = LDA_classifier.predict_proba(test_X)[:,0]"
   ]
  },
  {
   "cell_type": "code",
   "execution_count": 96,
   "metadata": {},
   "outputs": [],
   "source": [
    "class_report = classification_report(test_y, pred_labels_test_X, labels=None, target_names=None, sample_weight=None, digits=3)\n",
    "auc = roc_auc_score(test_y, pred_probs, average='macro', sample_weight=None)\n",
    "log_loss = sklearn.metrics.log_loss(test_y, pred_probs, eps=1e-15, normalize=True, sample_weight=None, labels=None)\n",
    "class_score = accuracy_score(test_y, pred_labels_test_X, normalize=True, sample_weight=None)"
   ]
  },
  {
   "cell_type": "code",
   "execution_count": 97,
   "metadata": {},
   "outputs": [
    {
     "name": "stdout",
     "output_type": "stream",
     "text": [
      "             precision    recall  f1-score   support\n",
      "\n",
      "          0      0.611     0.739     0.669      4241\n",
      "          1      0.571     0.426     0.488      3469\n",
      "\n",
      "avg / total      0.593     0.598     0.588      7710\n",
      "\n"
     ]
    }
   ],
   "source": [
    "print(class_report)"
   ]
  },
  {
   "cell_type": "code",
   "execution_count": 98,
   "metadata": {},
   "outputs": [
    {
     "name": "stdout",
     "output_type": "stream",
     "text": [
      "0.37773382583734716 0.7899187995631725\n"
     ]
    }
   ],
   "source": [
    "print(auc, log_loss)"
   ]
  },
  {
   "cell_type": "code",
   "execution_count": 99,
   "metadata": {},
   "outputs": [
    {
     "name": "stdout",
     "output_type": "stream",
     "text": [
      "0.5980544747081712\n"
     ]
    }
   ],
   "source": [
    "print(class_score)"
   ]
  },
  {
   "cell_type": "code",
   "execution_count": 101,
   "metadata": {},
   "outputs": [
    {
     "name": "stdout",
     "output_type": "stream",
     "text": [
      "7710\n"
     ]
    }
   ],
   "source": []
  }
 ],
 "metadata": {
  "kernelspec": {
   "display_name": "Python 3",
   "language": "python",
   "name": "python3"
  },
  "language_info": {
   "codemirror_mode": {
    "name": "ipython",
    "version": 3
   },
   "file_extension": ".py",
   "mimetype": "text/x-python",
   "name": "python",
   "nbconvert_exporter": "python",
   "pygments_lexer": "ipython3",
   "version": "3.6.2"
  }
 },
 "nbformat": 4,
 "nbformat_minor": 2
}
